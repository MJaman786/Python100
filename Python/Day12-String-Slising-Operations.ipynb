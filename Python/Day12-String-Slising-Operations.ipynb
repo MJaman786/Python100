{
 "cells": [
  {
   "cell_type": "code",
   "execution_count": 10,
   "metadata": {},
   "outputs": [
    {
     "name": "stdout",
     "output_type": "stream",
     "text": [
      "Aman  Mujawar\n",
      "Mujawar\n"
     ]
    }
   ],
   "source": [
    "# String Slising\n",
    "\n",
    "name = \"Aman Mujawar\"\n",
    "print(name[0:4],\"\",name[5:12])\n",
    "print(name[5:12])"
   ]
  },
  {
   "cell_type": "code",
   "execution_count": 15,
   "metadata": {},
   "outputs": [
    {
     "name": "stdout",
     "output_type": "stream",
     "text": [
      "12\n",
      "12\n",
      "Aman\n",
      "Aman\n",
      "man\n"
     ]
    }
   ],
   "source": [
    "# Length of the string\n",
    "\n",
    "name = \"Aman Mujawar\"\n",
    "print(len(name))\n",
    "\n",
    "len_name = len(name)\n",
    "print(len_name)\n",
    "\n",
    "print(name[0:4]) # includeing 0th index but excluding 4th index\n",
    "print(name[:4])  # includeing 0th index but excluding 4th index\n",
    "print(name[1:4]) # includeing 1th index but excluding 4th index\n"
   ]
  },
  {
   "cell_type": "code",
   "execution_count": 33,
   "metadata": {},
   "outputs": [
    {
     "name": "stdout",
     "output_type": "stream",
     "text": [
      "India is my Country\n",
      "Length of string 'India is my Country' :  19\n",
      "India\n",
      "India\n",
      "India\n",
      "\n",
      "Length of the string 'Ronaldo' :  7\n",
      "String after sclising : ' Ronaldo '\n",
      "String after sclising : ' Ron '\n",
      "String after sclising : ' Ronald '\n",
      "String after sclising : ' Ron '\n",
      "String after sclising : ' Ro '\n"
     ]
    }
   ],
   "source": [
    "# Negative Slising\n",
    "\n",
    "\"\"\"\n",
    "String : 1\n",
    "\"\"\"\n",
    "\n",
    "strName1 = \"India is my Country\"\n",
    "print(strName1)\n",
    "\n",
    "print(\"Length of string 'India is my Country' : \",len(strName1))\n",
    "\n",
    "# Negative slising\n",
    "print(strName1[0:5])\n",
    "\n",
    "print(strName1[0:len(strName1)-14]) # In negative string lenght is subtracted by the \n",
    "print(strName1[0:-14]) # -ve value to get desired index from [0:19-14] i.e [0:5]\n",
    "\n",
    "\"\"\"\n",
    "String : 2\n",
    "\"\"\" \n",
    "\n",
    "strName2 = \"Ronaldo\"\n",
    "print(\"\\nLength of the string 'Ronaldo' : \",len(strName2))\n",
    "\n",
    "print(\"String after sclising : '\",strName2 [-9:9],\"'\") # in this strName2[9-9:9] is equals to strName2[0:9]\n",
    "print(\"String after sclising : '\",strName2 [0:-4],\"'\") # in this strName2[0:9-4] is equals to strName2[0:5]  \n",
    "print(\"String after sclising : '\",strName2 [:6],\"'\") # in this strName2[0:6]  \n",
    "print(\"String after sclising : '\",strName2 [:-4],\"'\") # in this strName2[0:9-4] is equals to strName2[0:5] \n",
    "print(\"String after sclising : '\",strName2 [:-5],\"'\") # in this strName2[0:9-5] is equals to strName2[0:4]  \n"
   ]
  },
  {
   "cell_type": "code",
   "execution_count": 37,
   "metadata": {},
   "outputs": [
    {
     "name": "stdout",
     "output_type": "stream",
     "text": [
      "5\n",
      "mk\n"
     ]
    }
   ],
   "source": [
    "# Quick Quiz\n",
    "strName = \"Omkar\"\n",
    "print(len(strName))\n",
    "print(strName[-4:-2])\n",
    "\n",
    "\n",
    "#     The length of string 'Omkar' is 4\n",
    "#     strName[-4:-2] indicates strName[len(strName)-4:len(strName)-2]\n",
    "#     i.e strName[5-4:5-2] = strName[0:2]\n",
    "# Therefore,\n",
    "#     only 'mk' will be printed as a string\n"
   ]
  }
 ],
 "metadata": {
  "kernelspec": {
   "display_name": "Python 3",
   "language": "python",
   "name": "python3"
  },
  "language_info": {
   "codemirror_mode": {
    "name": "ipython",
    "version": 3
   },
   "file_extension": ".py",
   "mimetype": "text/x-python",
   "name": "python",
   "nbconvert_exporter": "python",
   "pygments_lexer": "ipython3",
   "version": "3.12.0"
  }
 },
 "nbformat": 4,
 "nbformat_minor": 2
}
