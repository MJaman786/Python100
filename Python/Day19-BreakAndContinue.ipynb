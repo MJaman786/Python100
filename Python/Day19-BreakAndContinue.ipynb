{
 "cells": [
  {
   "cell_type": "code",
   "execution_count": 8,
   "metadata": {},
   "outputs": [
    {
     "name": "stdout",
     "output_type": "stream",
     "text": [
      "5 x  0  =  0\n",
      "5 x  1  =  5\n",
      "5 x  2  =  10\n",
      "5 x  3  =  15\n",
      "5 x  4  =  20\n",
      "5 x  5  =  25\n",
      "5 x  6  =  30\n",
      "5 x  7  =  35\n",
      "5 x  8  =  40\n"
     ]
    }
   ],
   "source": [
    "# break statement\n",
    "\n",
    "for i in range (10):\n",
    "    if(i==9):\n",
    "        break # exite from loop\n",
    "    print(\"5 x \",i,\" = \",5 * i)"
   ]
  },
  {
   "cell_type": "code",
   "execution_count": 7,
   "metadata": {},
   "outputs": [
    {
     "name": "stdout",
     "output_type": "stream",
     "text": [
      "5 x  0  =  0\n",
      "5 x  1  =  5\n",
      "5 x  2  =  10\n",
      "5 x  3  =  15\n",
      "5 x  4  =  20\n",
      "5 x  5  =  25\n",
      "5 x  6  =  30\n",
      "5 x  7  =  35\n",
      "5 x  8  =  40\n",
      "5 x  9  =  45\n",
      "Skip 10th Iteration\n",
      "5 x  11  =  55\n"
     ]
    }
   ],
   "source": [
    "# continue statement\n",
    "\n",
    "for i in range (12):\n",
    "    if(i==10):\n",
    "        print(\"Skip 10th Iteration\")\n",
    "        continue # skip the iteration\n",
    "    print(\"5 x \",i,\" = \",5 * i)"
   ]
  },
  {
   "cell_type": "code",
   "execution_count": 20,
   "metadata": {},
   "outputs": [
    {
     "name": "stdout",
     "output_type": "stream",
     "text": [
      "0  1  2  3  4  5  6  7  8  9  \n",
      "10  11  12  13  14  15  16  17  18  19  \n",
      "20  21  22  23  24  25  26  27  28  29  \n",
      "30  31  32  33  34  35  36  37  38  39  \n",
      "40  41  42  43  44  45  46  47  48  49  \n",
      "50  51  52  53  54  55  56  57  58  59  \n",
      "60  61  62  63  64  65  66  67  68  69  \n",
      "70  71  72  73  74  75  76  77  78  79  \n",
      "80  81  82  83  84  85  86  87  88  89  \n",
      "90  91  92  93  94  95  96  97  98  99  \n"
     ]
    }
   ],
   "source": [
    "# emulating do while loop\n",
    "import time\n",
    "i = 0 \n",
    "while True:\n",
    "    print(i,end=\"  \")\n",
    "    time.sleep(0.5)\n",
    "    i = i + 1\n",
    "    if(i%10==0):\n",
    "        print()\n",
    "    if(i%100==0):\n",
    "        break"
   ]
  }
 ],
 "metadata": {
  "kernelspec": {
   "display_name": "Python 3",
   "language": "python",
   "name": "python3"
  },
  "language_info": {
   "codemirror_mode": {
    "name": "ipython",
    "version": 3
   },
   "file_extension": ".py",
   "mimetype": "text/x-python",
   "name": "python",
   "nbconvert_exporter": "python",
   "pygments_lexer": "ipython3",
   "version": "3.12.0"
  }
 },
 "nbformat": 4,
 "nbformat_minor": 2
}
