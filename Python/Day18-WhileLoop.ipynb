{
 "cells": [
  {
   "cell_type": "code",
   "execution_count": 4,
   "metadata": {},
   "outputs": [
    {
     "name": "stdout",
     "output_type": "stream",
     "text": [
      "0 1 2 3 "
     ]
    }
   ],
   "source": [
    "# While Loop\n",
    "i=0\n",
    "while(i<=3):\n",
    "    print(i,end=\" \")\n",
    "    i = i+1"
   ]
  },
  {
   "cell_type": "code",
   "execution_count": 33,
   "metadata": {},
   "outputs": [
    {
     "name": "stdout",
     "output_type": "stream",
     "text": [
      "{'name': 'Aman', 'branch': 'IT', 'erp': 'T21144'}\n",
      "{'name': 'Rohan', 'branch': 'IT', 'erp': 'T21145'}\n",
      "Record 1: {'name': 'Aman', 'branch': 'IT', 'erp': 'T21144'}\n",
      "Record 2: {'name': 'Rohan', 'branch': 'IT', 'erp': 'T21145'}\n"
     ]
    }
   ],
   "source": [
    "dict1 = {\n",
    "    'record1': {\n",
    "        'name': \"Aman\",\n",
    "        'branch': \"IT\",\n",
    "        'erp': \"T21144\"\n",
    "    },\n",
    "    'record2': {\n",
    "        'name': 'Rohan',\n",
    "        'branch': 'IT',\n",
    "        'erp': 'T21145'\n",
    "    }\n",
    "}\n",
    "print(dict1['record1'])\n",
    "print(dict1['record2'])\n",
    "\n",
    "i = 0\n",
    "while i < len(dict1):\n",
    "    print(f\"Record {i + 1}: {dict1['record' + str(i + 1)]}\")\n",
    "    i += 1"
   ]
  },
  {
   "cell_type": "code",
   "execution_count": 44,
   "metadata": {},
   "outputs": [
    {
     "name": "stdout",
     "output_type": "stream",
     "text": [
      "1\t2\t3\t4\t5\t6\t7\t8\t9\t10\t\n",
      "2\t4\t6\t8\t10\t12\t14\t16\t18\t20\t\n",
      "3\t6\t9\t12\t15\t18\t21\t24\t27\t30\t\n",
      "4\t8\t12\t16\t20\t24\t28\t32\t36\t40\t\n",
      "5\t10\t15\t20\t25\t30\t35\t40\t45\t50\t\n",
      "6\t12\t18\t24\t30\t36\t42\t48\t54\t60\t\n",
      "7\t14\t21\t28\t35\t42\t49\t56\t63\t70\t\n",
      "8\t16\t24\t32\t40\t48\t56\t64\t72\t80\t\n",
      "9\t18\t27\t36\t45\t54\t63\t72\t81\t90\t\n",
      "10\t20\t30\t40\t50\t60\t70\t80\t90\t100\t\n"
     ]
    }
   ],
   "source": [
    "i = 1\n",
    "while(i<=10):\n",
    "    j = 1\n",
    "    while(j<=10):\n",
    "        print(i * j, end=\"\\t\")\n",
    "        j = j+1\n",
    "    i = i+1\n",
    "    print()"
   ]
  },
  {
   "cell_type": "code",
   "execution_count": 53,
   "metadata": {},
   "outputs": [
    {
     "name": "stdout",
     "output_type": "stream",
     "text": [
      "I'm in\n",
      "I'm in\n",
      "I'm in\n",
      "I'm in\n",
      "I'm in\n",
      "Now I'm out\n"
     ]
    }
   ],
   "source": [
    "count = 5\n",
    "while count != 0:\n",
    "    print(\"I'm in\")\n",
    "    count = count - 1\n",
    "else:\n",
    "    print(\"Now I'm out\")\n"
   ]
  }
 ],
 "metadata": {
  "kernelspec": {
   "display_name": "Python 3",
   "language": "python",
   "name": "python3"
  },
  "language_info": {
   "codemirror_mode": {
    "name": "ipython",
    "version": 3
   },
   "file_extension": ".py",
   "mimetype": "text/x-python",
   "name": "python",
   "nbconvert_exporter": "python",
   "pygments_lexer": "ipython3",
   "version": "3.12.0"
  }
 },
 "nbformat": 4,
 "nbformat_minor": 2
}
