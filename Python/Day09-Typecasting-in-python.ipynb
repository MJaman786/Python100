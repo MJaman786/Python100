{
 "cells": [
  {
   "cell_type": "code",
   "execution_count": 5,
   "metadata": {},
   "outputs": [
    {
     "name": "stdout",
     "output_type": "stream",
     "text": [
      "5.0\n",
      "6\n"
     ]
    }
   ],
   "source": [
    "# Inplicit typecasting - is done by python\n",
    "x = 2\n",
    "y = 3.0\n",
    "print(x + y)\n",
    "\n",
    "# Explicit typecasting - is done by the user \n",
    "a = \"2\"\n",
    "b = \"4\"\n",
    "print(int(a) + int (b))"
   ]
  }
 ],
 "metadata": {
  "kernelspec": {
   "display_name": "Python 3",
   "language": "python",
   "name": "python3"
  },
  "language_info": {
   "codemirror_mode": {
    "name": "ipython",
    "version": 3
   },
   "file_extension": ".py",
   "mimetype": "text/x-python",
   "name": "python",
   "nbconvert_exporter": "python",
   "pygments_lexer": "ipython3",
   "version": "3.12.0"
  }
 },
 "nbformat": 4,
 "nbformat_minor": 2
}
