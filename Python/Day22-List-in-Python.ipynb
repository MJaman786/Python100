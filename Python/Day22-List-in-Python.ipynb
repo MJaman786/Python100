{
 "cells": [
  {
   "cell_type": "code",
   "execution_count": 3,
   "metadata": {},
   "outputs": [
    {
     "name": "stdout",
     "output_type": "stream",
     "text": [
      "<class 'list'>\n",
      "['Aman', 'Rohan', 'Onkar']\n"
     ]
    }
   ],
   "source": [
    "# List is the order collection of Data Items\n",
    "items = ['Aman','Rohan','Onkar']\n",
    "print(type(items))\n",
    "print(items)"
   ]
  },
  {
   "cell_type": "code",
   "execution_count": 14,
   "metadata": {},
   "outputs": [
    {
     "name": "stdout",
     "output_type": "stream",
     "text": [
      "Length of list =  5\n",
      "Item at index 0 =  WAD\n",
      "Item at index 3 =  CNS\n",
      "Item at index 2 =  DSA\n",
      "Item at index 4 =  CNS\n",
      "\n",
      "Length of list 0 to 2 =  3\n",
      "Elements from index 0 - 2 =  ['WAD', 'OOP', 'DSA']\n",
      "\n",
      "Length of list 1 to 2 =  2\n",
      "Elements from index 0 - 2 =  ['OOP', 'DSA']\n",
      "\n",
      "Length of list 0 to 4 =  5\n",
      "Elements from index 0 - 2 =  ['WAD', 'OOP', 'DSA', 'DSBDA', 'CNS']\n",
      "\n"
     ]
    }
   ],
   "source": [
    "# reteriving items w.r.t index\n",
    "subjects = ['WAD','OOP','DSA','DSBDA','CNS']\n",
    "print(\"Length of list = \",len(subjects))\n",
    "print('Item at index 0 = ',subjects[0])\n",
    "print('Item at index 3 = ',subjects[4])\n",
    "print('Item at index 2 = ',subjects[2])\n",
    "print('Item at index 4 = ',subjects[4])\n",
    "print()\n",
    "\n",
    "# list sclising\n",
    "print(\"Length of list 0 to 2 = \",len(subjects[0:3]))\n",
    "print('Elements from index 0 - 2 = ',subjects[0:3]) \n",
    "print()\n",
    "print(\"Length of list 1 to 2 = \",len(subjects[1:3]))\n",
    "print('Elements from index 0 - 2 = ',subjects[1:3]) \n",
    "print()\n",
    "print(\"Length of list 0 to 4 = \",len(subjects[0:5]))\n",
    "print('Elements from index 0 - 2 = ',subjects[0:5])\n",
    "print() "
   ]
  },
  {
   "cell_type": "code",
   "execution_count": 19,
   "metadata": {},
   "outputs": [
    {
     "name": "stdout",
     "output_type": "stream",
     "text": [
      "Length of list 0 to 2 =  2\n",
      "Elements from index 0 - 2 =  ['WAD', 'OOP']\n",
      "\n",
      "Element at index 4 =  CNS\n"
     ]
    }
   ],
   "source": [
    "# negative sclicing\n",
    "print(\"Length of list 0 to 2 = \",len(subjects[0:-3]))\n",
    "print('Elements from index 0 - 2 = ',subjects[0:-3]) \n",
    "# -3 i.e len(subject) - 3\n",
    "# Therefore,\n",
    "# 5 - 3 = 2\n",
    "# range of list = [0 : 2]\n",
    "print()\n",
    "print('Element at index 4 = ',subjects[4]) \n"
   ]
  },
  {
   "cell_type": "code",
   "execution_count": 20,
   "metadata": {},
   "outputs": [
    {
     "name": "stdout",
     "output_type": "stream",
     "text": [
      "Yes, Aman is present in list\n"
     ]
    }
   ],
   "source": [
    "# exercise\n",
    "# search the element in a list\n",
    "\n",
    "list = ['Aman',90,'Onkar',98,'Devyanshu',100]\n",
    "if 'Aman' in list:\n",
    "    print(\"Yes, Aman is present in list\")\n",
    "else:\n",
    "    print(\"No, Aman is not present\")"
   ]
  },
  {
   "cell_type": "code",
   "execution_count": 22,
   "metadata": {},
   "outputs": [
    {
     "name": "stdout",
     "output_type": "stream",
     "text": [
      "Student Data: [('Aman', '2'), ('Ali', '7'), ('Ayan', '4')]\n"
     ]
    }
   ],
   "source": [
    "# Get the number of students\n",
    "num_students = int(input(\"Enter the number of students: \"))\n",
    "\n",
    "# Initialize an empty list to store name and roll number tuples\n",
    "students_data = []\n",
    "\n",
    "# Loop to take input for each student\n",
    "for i in range(num_students):\n",
    "    name = input(f\"Enter the name of student {i+1}: \")\n",
    "    roll_no = input(f\"Enter the roll number of student {i+1}: \")\n",
    "\n",
    "    # Append a tuple with name and roll number to the list\n",
    "    students_data.append((name, roll_no))\n",
    "\n",
    "# Print the list of tuples\n",
    "print(\"Student Data:\", students_data)\n"
   ]
  },
  {
   "cell_type": "code",
   "execution_count": 24,
   "metadata": {},
   "outputs": [
    {
     "name": "stdout",
     "output_type": "stream",
     "text": [
      "Enter number of students : \n",
      "Student_Database :  [('Aman', 4), ('Ali', 9), ('Omkar', 68), ('Amol', 45)]\n"
     ]
    }
   ],
   "source": [
    "print('Enter number of students : ')\n",
    "num = int(input())\n",
    "\n",
    "db = []\n",
    "\n",
    "for i in range(num):\n",
    "    name = str(input())\n",
    "    rollno = int(input())\n",
    "    db.append((name,rollno))\n",
    "\n",
    "print('Student_Database : ',db)\n"
   ]
  }
 ],
 "metadata": {
  "kernelspec": {
   "display_name": "Python 3",
   "language": "python",
   "name": "python3"
  },
  "language_info": {
   "codemirror_mode": {
    "name": "ipython",
    "version": 3
   },
   "file_extension": ".py",
   "mimetype": "text/x-python",
   "name": "python",
   "nbconvert_exporter": "python",
   "pygments_lexer": "ipython3",
   "version": "3.12.0"
  }
 },
 "nbformat": 4,
 "nbformat_minor": 2
}
