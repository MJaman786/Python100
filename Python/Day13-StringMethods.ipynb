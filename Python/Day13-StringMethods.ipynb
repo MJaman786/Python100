{
 "cells": [
  {
   "cell_type": "code",
   "execution_count": 2,
   "metadata": {},
   "outputs": [
    {
     "name": "stdout",
     "output_type": "stream",
     "text": [
      "Hi! Aman\n",
      "HI! AMAN\n",
      "hi! aman\n",
      "Hi! Omkar!!!\n",
      "Hi! Omkar\n",
      "Hi! Aman!!!\n",
      "['Hi!', 'Omkar!!!']\n",
      "Introduction to python course !!!!\n",
      "        introduction to python course !!!!        \n",
      "2\n",
      "5\n",
      "34\n",
      "True\n",
      "23\n",
      "INTRODUCTION TO PYTHON COURSE !!!!\n",
      "Introduction To Python Course !!!!\n"
     ]
    }
   ],
   "source": [
    "# String Methods\n",
    "\n",
    "strName = \"Hi! Aman\"\n",
    "print(strName)\n",
    "\n",
    "# Upper-string\n",
    "print(strName.upper())\n",
    "\n",
    "# Lower-string\n",
    "print(strName.lower())\n",
    "\n",
    "# striping/neglecting of character\n",
    "strName1 = \"Hi! Omkar!!!\"\n",
    "print(strName1)\n",
    "print(strName1.rstrip(\"!\"))\n",
    "\n",
    "# Replace on string\n",
    "print(strName1.replace(\"Omkar\",\"Aman\"))\n",
    "\n",
    "# spliting of string\n",
    "print(strName1.split(\" \")) # this method convert the string into list\n",
    "\n",
    "# capitalize method\n",
    "strName2 = \"introduction to python course !!!!\"\n",
    "print(strName2.capitalize())\n",
    "\n",
    "# center method\n",
    "print(strName2.center(50))\n",
    "\n",
    "# count method\n",
    "# gives the occurance of the character or string\n",
    "print(strName2.count(\"i\"))\n",
    "print(strName2.count(\"o\"))\n",
    "\n",
    "# endswith method\n",
    "print(len(strName2))\n",
    "print(strName2.endswith(\"!!!!\"))\n",
    "# print(strName2.endswith(\"course\",21,27))\n",
    "\n",
    "# find method\n",
    "print(strName2.find(\"course\"))\n",
    "\n",
    "# swap-case\n",
    "print(strName2.swapcase())\n",
    "\n",
    "# title\n",
    "print(strName2.title())"
   ]
  }
 ],
 "metadata": {
  "kernelspec": {
   "display_name": "Python 3",
   "language": "python",
   "name": "python3"
  },
  "language_info": {
   "codemirror_mode": {
    "name": "ipython",
    "version": 3
   },
   "file_extension": ".py",
   "mimetype": "text/x-python",
   "name": "python",
   "nbconvert_exporter": "python",
   "pygments_lexer": "ipython3",
   "version": "3.12.0"
  }
 },
 "nbformat": 4,
 "nbformat_minor": 2
}
