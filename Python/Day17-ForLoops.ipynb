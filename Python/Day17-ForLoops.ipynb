{
 "cells": [
  {
   "cell_type": "code",
   "execution_count": 13,
   "metadata": {},
   "outputs": [
    {
     "name": "stdout",
     "output_type": "stream",
     "text": [
      "Aman, A, m, a, n, \n",
      "\n",
      "Ayan, A, y, a, n, \n",
      "\n",
      "Arsalaan, A, r, s, a, l, a, a, n, \n",
      "\n",
      "Ali, A, l, i, \n",
      "\n",
      "Asad, A, s, a, d, \n",
      "\n"
     ]
    }
   ],
   "source": [
    "# for loop\n",
    "\n",
    "list1 = ['Aman', 'Ayan', 'Arsalaan', 'Ali', 'Asad']\n",
    "for name in list1:\n",
    "    print(name, end=\", \")\n",
    "    for i in name:\n",
    "        print(i, end=\", \")\n",
    "    print(\"\\n\")\n"
   ]
  },
  {
   "cell_type": "code",
   "execution_count": 17,
   "metadata": {},
   "outputs": [
    {
     "name": "stdout",
     "output_type": "stream",
     "text": [
      "record1\n",
      "  Name: Aman,   Age: 20,   canVote: Yes, \n",
      "record2\n",
      "  Name: Aman,   Age: 20,   canVote: Yes, \n"
     ]
    }
   ],
   "source": [
    "dict1 = {\n",
    "    'record1': {\n",
    "        'Name': 'Aman',\n",
    "        'Age': '20',\n",
    "        'canVote': \"Yes\"\n",
    "    },\n",
    "    'record2': {\n",
    "        'Name': 'Aman',\n",
    "        'Age': '20',\n",
    "        'canVote': \"Yes\"\n",
    "    }\n",
    "}\n",
    "\n",
    "for record, values in dict1.items():\n",
    "    print(record)\n",
    "    for key, value in values.items():\n",
    "        print(f\"  {key}: {value}\", end=\", \")\n",
    "    print()  # Add an empty line for better readability\n"
   ]
  },
  {
   "cell_type": "code",
   "execution_count": 59,
   "metadata": {},
   "outputs": [
    {
     "name": "stdout",
     "output_type": "stream",
     "text": [
      "0 1 2 3 4 5 6 7 8 9 \n",
      "1 2 3 4 5 6 7 8 9 10 \n",
      "1 2 3 4 5 6 7 8 9 10 "
     ]
    }
   ],
   "source": [
    "# for k in range(START, END):\n",
    "#     print(k,end=\" \")\n",
    "\n",
    "for k in range(0, 10):\n",
    "    print(k,end=\" \")\n",
    "print()\n",
    "for k in range(0, 10):\n",
    "    print(k+1,end=\" \")\n",
    "print()\n",
    "for k in range(0, 10):\n",
    "    print(k+1,end=\" \")"
   ]
  },
  {
   "cell_type": "code",
   "execution_count": 62,
   "metadata": {},
   "outputs": [
    {
     "name": "stdout",
     "output_type": "stream",
     "text": [
      "0 2 4 6 8 \n",
      "0 5 \n",
      "0 3 6 9 "
     ]
    }
   ],
   "source": [
    "# for k in range(START, END, INCREMENT_VALUE):\n",
    "#     print(k,end=\" \")\n",
    "\n",
    "for k in range(0, 10, 2):\n",
    "    print(k,end=\" \")\n",
    "print()\n",
    "for k in range(0, 10, 5):\n",
    "    print(k,end=\" \")\n",
    "print()\n",
    "for k in range(0, 10, 3):\n",
    "    print(k,end=\" \")"
   ]
  },
  {
   "cell_type": "code",
   "execution_count": 60,
   "metadata": {},
   "outputs": [
    {
     "name": "stdout",
     "output_type": "stream",
     "text": [
      "1\t2\t3\t4\t5\t6\t7\t8\t9\t10\t\n",
      "2\t4\t6\t8\t10\t12\t14\t16\t18\t20\t\n",
      "3\t6\t9\t12\t15\t18\t21\t24\t27\t30\t\n",
      "4\t8\t12\t16\t20\t24\t28\t32\t36\t40\t\n",
      "5\t10\t15\t20\t25\t30\t35\t40\t45\t50\t\n",
      "6\t12\t18\t24\t30\t36\t42\t48\t54\t60\t\n",
      "7\t14\t21\t28\t35\t42\t49\t56\t63\t70\t\n",
      "8\t16\t24\t32\t40\t48\t56\t64\t72\t80\t\n",
      "9\t18\t27\t36\t45\t54\t63\t72\t81\t90\t\n",
      "10\t20\t30\t40\t50\t60\t70\t80\t90\t100\t\n"
     ]
    }
   ],
   "source": [
    "for i in range(1, 11):\n",
    "    for k in range(1,11):\n",
    "        print(i*k,end=\"\\t\")\n",
    "    print()"
   ]
  }
 ],
 "metadata": {
  "kernelspec": {
   "display_name": "Python 3",
   "language": "python",
   "name": "python3"
  },
  "language_info": {
   "codemirror_mode": {
    "name": "ipython",
    "version": 3
   },
   "file_extension": ".py",
   "mimetype": "text/x-python",
   "name": "python",
   "nbconvert_exporter": "python",
   "pygments_lexer": "ipython3",
   "version": "3.12.0"
  }
 },
 "nbformat": 4,
 "nbformat_minor": 2
}
