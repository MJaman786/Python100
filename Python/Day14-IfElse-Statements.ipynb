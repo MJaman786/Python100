{
 "cells": [
  {
   "cell_type": "code",
   "execution_count": 6,
   "metadata": {},
   "outputs": [
    {
     "name": "stdout",
     "output_type": "stream",
     "text": [
      "You can drive.\n"
     ]
    }
   ],
   "source": [
    "# if-else statement\n",
    "# <, >, <=, >=, ==, != \n",
    "age = int(input(\"Enter your age : \"))\n",
    "if(age>=18 and age<=50):\n",
    "    print(\"You can drive.\")\n",
    "else:\n",
    "    print(\"You cannot drive.\")"
   ]
  },
  {
   "cell_type": "code",
   "execution_count": 9,
   "metadata": {},
   "outputs": [
    {
     "name": "stdout",
     "output_type": "stream",
     "text": [
      "You have passed with E grade\n",
      "You are failed\n",
      "You have passed with E grade\n",
      "You have passed with D grade\n",
      "You have passed with B grade\n",
      "You have passed with B grade\n",
      "You have passed with A grade\n",
      "You have passed with A grade\n",
      "Exiting the loop.\n"
     ]
    }
   ],
   "source": [
    "# giving the grades to student on their percentage\n",
    "\n",
    "# percentage = float(input(\"Enter your percentage : \"))\n",
    "# if(percentage<40):\n",
    "#     print(\"you are failed\")\n",
    "# elif(percentage==40 and percentage<=60):\n",
    "#     print(\"You have passed with E grade\")\n",
    "# elif(percentage>=61 and percentage<=70):\n",
    "#     print(\"You have passed with D grade\")\n",
    "# elif(percentage>=71 and percentage<=80):\n",
    "#     print(\"You have passed with C grade\")\n",
    "# elif(percentage>=81 and percentage<=90):\n",
    "#     print(\"You have passed with B grade\")\n",
    "# else:\n",
    "#     print(\"You have passed with A grade\")\n",
    "\n",
    "while True:\n",
    "    percentage = float(input(\"Enter your percentage (enter -1 to exit): \"))\n",
    "    \n",
    "    if percentage == -1:\n",
    "        print(\"Exiting the loop.\")\n",
    "        break\n",
    "    \n",
    "    if percentage < 40:\n",
    "        print(\"You are failed\")\n",
    "    elif 40 <= percentage <= 60:\n",
    "        print(\"You have passed with E grade\")\n",
    "    elif 61 <= percentage <= 70:\n",
    "        print(\"You have passed with D grade\")\n",
    "    elif 71 <= percentage <= 80:\n",
    "        print(\"You have passed with C grade\")\n",
    "    elif 81 <= percentage <= 90:\n",
    "        print(\"You have passed with B grade\")\n",
    "    else:\n",
    "        print(\"You have passed with A grade\")\n"
   ]
  }
 ],
 "metadata": {
  "kernelspec": {
   "display_name": "Python 3",
   "language": "python",
   "name": "python3"
  },
  "language_info": {
   "codemirror_mode": {
    "name": "ipython",
    "version": 3
   },
   "file_extension": ".py",
   "mimetype": "text/x-python",
   "name": "python",
   "nbconvert_exporter": "python",
   "pygments_lexer": "ipython3",
   "version": "3.12.0"
  }
 },
 "nbformat": 4,
 "nbformat_minor": 2
}
