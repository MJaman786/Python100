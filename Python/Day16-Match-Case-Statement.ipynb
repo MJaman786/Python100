{
 "cells": [
  {
   "cell_type": "code",
   "execution_count": 1,
   "metadata": {},
   "outputs": [
    {
     "data": {
      "text/plain": [
       "'\\n    The match statement is initialized with the match keyword creating a block and taking a parameter ( here the name is also a parameter ) and then steps down to the various cases using the case keyword and the pattern, for the pattern to match the parameter. The ” _  ” is the wildcard character which is run when nothing is matched.\\n'"
      ]
     },
     "execution_count": 1,
     "metadata": {},
     "output_type": "execute_result"
    }
   ],
   "source": [
    "# Match case\n",
    "# The match statement is initialized with the match keyword creating a block and taking a parameter ( here the name is also a parameter ) and then steps down to the various cases using the case keyword and the pattern, for the pattern to match the parameter. The ” _  ” is the wildcard character which is run when nothing is matched.\n",
    "\n",
    "# parameter = \"Geeksforgeeks\" \n",
    "# match parameter:\n",
    "#     case first  : \n",
    "#         do_something(first)\n",
    "     \n",
    "#     case second : \n",
    "#           do_something(second)\n",
    "         \n",
    "#     case third : \n",
    "#         do_something(third)\n",
    "#         .............\n",
    "#         ............\n",
    "#     case n :\n",
    "#         do_something(n)\n",
    "#     case _  : \n",
    "#           nothing_matched_function()"
   ]
  },
  {
   "cell_type": "code",
   "execution_count": 12,
   "metadata": {},
   "outputs": [
    {
     "name": "stdout",
     "output_type": "stream",
     "text": [
      "It is Tuesday\n"
     ]
    }
   ],
   "source": [
    "day = int(input(\"Enter number : \"))\n",
    "match day:\n",
    "    case 1:\n",
    "        print(\"It is Sunday\")\n",
    "    case 2:\n",
    "        print(\"It is Monday\")\n",
    "    case 3:\n",
    "        print(\"It is Tuesday\")\n",
    "    case 4:\n",
    "        print(\"It is Wednesday\")\n",
    "    case 5:\n",
    "        print(\"It is Thrusday\")\n",
    "    case 6:\n",
    "        print(\"It is Frisday\")\n",
    "    case 7:\n",
    "        print(\"It is Saturday\")"
   ]
  }
 ],
 "metadata": {
  "kernelspec": {
   "display_name": "Python 3",
   "language": "python",
   "name": "python3"
  },
  "language_info": {
   "codemirror_mode": {
    "name": "ipython",
    "version": 3
   },
   "file_extension": ".py",
   "mimetype": "text/x-python",
   "name": "python",
   "nbconvert_exporter": "python",
   "pygments_lexer": "ipython3",
   "version": "3.12.0"
  }
 },
 "nbformat": 4,
 "nbformat_minor": 2
}
