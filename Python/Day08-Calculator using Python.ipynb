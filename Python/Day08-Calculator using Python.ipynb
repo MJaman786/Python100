{
 "cells": [
  {
   "cell_type": "code",
   "execution_count": 6,
   "metadata": {},
   "outputs": [],
   "source": [
    "# Python divides the operators in the following groups:\n",
    "\n",
    "# - Arithmetic operators\n",
    "# - Assignment operators\n",
    "# - Comparison operators\n",
    "# - Logical operators\n",
    "# - Identity operators\n",
    "# - Membership operators\n",
    "# - Bitwise operators"
   ]
  },
  {
   "cell_type": "code",
   "execution_count": 8,
   "metadata": {},
   "outputs": [
    {
     "name": "stdout",
     "output_type": "stream",
     "text": [
      "4\n",
      "2\n",
      "4\n",
      "2.0\n",
      "0\n",
      "2\n"
     ]
    }
   ],
   "source": [
    "# # - Arithmetic operators\n",
    "\n",
    "# Operator\t        Name\t        Example\t\n",
    "#     +\t        Addition\t        x + y\t\n",
    "#     -\t        Subtraction\t        x - y\t\n",
    "#     *\t        Multiplication\t    x * y\t\n",
    "#     /\t        Division\t        x / y\t\n",
    "#     %\t        Modulus\t            x % y\t    \n",
    "#     **\t    Exponentiation\t    x ** y\t\n",
    "#     //\t    Floor division\t    x // y\n",
    "\n",
    "print(2 + 2)\n",
    "print(4 - 2)\n",
    "print(2 * 2)\n",
    "print(10 / 5)\n",
    "print(10 % 5)\n",
    "print(10 // 5)"
   ]
  },
  {
   "cell_type": "code",
   "execution_count": 17,
   "metadata": {},
   "outputs": [
    {
     "name": "stdout",
     "output_type": "stream",
     "text": [
      "5\n",
      "10\n",
      "9\n",
      "45\n",
      "9.0\n",
      "0.0\n"
     ]
    }
   ],
   "source": [
    "# - Assignment operators\n",
    "\n",
    "# Operator\tExample\t        Same As\n",
    "#     =\t        x = 5\t    x = 5\t\n",
    "#     +=\t    x += 3\t    x = x + 3\t\n",
    "#     -=\t    x -= 3\t    x = x - 3\t\n",
    "#     *=\t    x *= 3\t    x = x * 3\t\n",
    "#     /=\t    x /= 3\t    x = x / 3\t\n",
    "#     %=\t    x %= 3\t    x = x % 3\t\n",
    "#     //=\t    x //= 3\t    x = x // 3\t\n",
    "#     **=\t    x **= 3\t    x = x ** 3\t\n",
    "#     &=\t    x &= 3\t    x = x & 3\t\n",
    "#     |=\t    x |= 3\t    x = x | 3\t\n",
    "#     ^=\t    x ^= 3\t    x = x ^ 3\t\n",
    "#     >>=\t    x >>= 3\t    x = x >> 3\t\n",
    "#     <<=\t    x <<= 3\t    x = x << 3\n",
    "\n",
    "num = 5\n",
    "print(5)\n",
    "num += 5\n",
    "print(num)\n",
    "\n",
    "num -= 1\n",
    "print(num)\n",
    "\n",
    "num *= 5\n",
    "print(num)\n",
    "\n",
    "num /= 5\n",
    "print(num)\n",
    "\n",
    "num %= 3\n",
    "print(num)"
   ]
  },
  {
   "cell_type": "code",
   "execution_count": 24,
   "metadata": {},
   "outputs": [
    {
     "name": "stdout",
     "output_type": "stream",
     "text": [
      "False\n",
      "True\n",
      "True\n",
      "False\n",
      "True\n",
      "False\n"
     ]
    }
   ],
   "source": [
    "# - Comparison operators\n",
    "# Operator\t    Name\t            Example\tTry it\n",
    "#     ==\t    Equal\t                    x == y\t\n",
    "#     !=\t    Not equal\t                x != y\t\n",
    "#     >\t        Greater than\t            x > y\t\n",
    "#     <\t        Less than\t                x < y\t\n",
    "#     >=\t    Greater than or equal to\tx >= y\t\n",
    "#     <=\t    Less than or equal to\t    x <= y\n",
    "\n",
    "x=5\n",
    "y=3\n",
    "print(x==y)\n",
    "print(x!=y)\n",
    "print(x>y)\n",
    "print(x<3)\n",
    "print(x>=y)\n",
    "print(x<=y)"
   ]
  },
  {
   "cell_type": "code",
   "execution_count": 28,
   "metadata": {},
   "outputs": [
    {
     "name": "stdout",
     "output_type": "stream",
     "text": [
      "False\n",
      "False\n",
      "True\n"
     ]
    }
   ],
   "source": [
    "# - Logical operators\n",
    "\n",
    "# Operator\t        Description\t                                             Example\t\n",
    "# and \t    Returns True if both statements are true\t                x < 5 and  x < 10\t\n",
    "# or\t    Returns True if one of the statements is true\t            x < 5 or x < 4\t\n",
    "# not\t    Reverse the result, returns False if the result is true\t    not(x < 5 and x < 10)\n",
    "\n",
    "x = 5\n",
    "print(x<5 and x<10)\n",
    "print(x < 5 or x < 4)\n",
    "print (not(x < 5 and x < 4))"
   ]
  },
  {
   "cell_type": "code",
   "execution_count": 1,
   "metadata": {},
   "outputs": [
    {
     "name": "stdout",
     "output_type": "stream",
     "text": [
      "num1 :  10\n",
      "num2 :  10\n",
      "Addition of to number :  20\n",
      "num1 :  10\n",
      "num2 :  10\n",
      "Subtraction of to number :  0\n",
      "num1 :  10\n",
      "num2 :  20\n",
      "Multiplication of to number :  200\n",
      "num1 :  20\n",
      "num2 :  20\n",
      "Division of to number :  1.0\n"
     ]
    }
   ],
   "source": [
    "# calculator\n",
    "\n",
    "input1 = int(input(\"Enter num1 : \"))\n",
    "print ('num1 : ',input1)\n",
    "\n",
    "input2 = int(input(\"Enter num2 : \"))\n",
    "print ('num2 : ',input2)\n",
    "\n",
    "result = input1 + input2\n",
    "print(\"Addition of to number : \",result)\n",
    "\n",
    "# ----------\n",
    "\n",
    "input1 = int(input(\"Enter num1 : \"))\n",
    "print ('num1 : ',input1)\n",
    "\n",
    "input2 = int(input(\"Enter num2 : \"))\n",
    "print ('num2 : ',input2)\n",
    "\n",
    "result = input1 - input2\n",
    "print(\"Subtraction of to number : \",result)\n",
    "\n",
    "# ---------\n",
    "input1 = int(input(\"Enter num1 : \"))\n",
    "print ('num1 : ',input1)\n",
    "\n",
    "input2 = int(input(\"Enter num2 : \"))\n",
    "print ('num2 : ',input2)\n",
    "\n",
    "result = input1 * input2\n",
    "print(\"Multiplication of to number : \",result)\n",
    "\n",
    "# ---------\n",
    "input1 = int(input(\"Enter num1 : \"))\n",
    "print ('num1 : ',input1)\n",
    "\n",
    "input2 = int(input(\"Enter num2 : \"))\n",
    "print ('num2 : ',input2)\n",
    "\n",
    "result = input1 / input2\n",
    "print(\"Division of to number : \",result)"
   ]
  }
 ],
 "metadata": {
  "kernelspec": {
   "display_name": "Python 3",
   "language": "python",
   "name": "python3"
  },
  "language_info": {
   "codemirror_mode": {
    "name": "ipython",
    "version": 3
   },
   "file_extension": ".py",
   "mimetype": "text/x-python",
   "name": "python",
   "nbconvert_exporter": "python",
   "pygments_lexer": "ipython3",
   "version": "3.12.0"
  }
 },
 "nbformat": 4,
 "nbformat_minor": 2
}
