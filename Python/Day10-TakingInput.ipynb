{
 "cells": [
  {
   "cell_type": "code",
   "execution_count": 1,
   "metadata": {},
   "outputs": [
    {
     "name": "stdout",
     "output_type": "stream",
     "text": [
      "Hi! Aman\n",
      "Age :  20\n"
     ]
    }
   ],
   "source": [
    "# input function\n",
    "# input(\"Enter your name : \")\n",
    "\n",
    "name = str(input(\"Enter your name : \"))\n",
    "print(\"Hi!\",name)\n",
    "\n",
    "age = int(input(\"Enter your age : \"))\n",
    "print(\"Age : \",age)"
   ]
  },
  {
   "cell_type": "code",
   "execution_count": 8,
   "metadata": {},
   "outputs": [
    {
     "name": "stdout",
     "output_type": "stream",
     "text": [
      "num1 :  12\n",
      "num2 :  12\n",
      "Addition of  12  +  12  =  24 \n",
      "\n",
      "num1 :  12\n",
      "num2 :  12\n",
      "Addition of  12  +  12  =  24\n"
     ]
    }
   ],
   "source": [
    "# Addition\n",
    "x = input(\"Enter number1 : \")\n",
    "y = input(\"Enter number2 : \")\n",
    "print(\"num1 : \",x)\n",
    "print(\"num2 : \",y)\n",
    "print(\"Addition of \",x,' + ',y,\" = \",int(x) + int(y),\"\\n\")\n",
    "\n",
    "# Addition\n",
    "x = int(input(\"Enter number1 : \"))\n",
    "y = int(input(\"Enter number2 : \"))\n",
    "print(\"num1 : \",x)\n",
    "print(\"num2 : \",y)\n",
    "print(\"Addition of \",x,' + ',y,\" = \",x + y)"
   ]
  },
  {
   "cell_type": "code",
   "execution_count": 12,
   "metadata": {},
   "outputs": [
    {
     "name": "stdout",
     "output_type": "stream",
     "text": [
      "num1 :  2\n",
      "num2 :  4\n",
      "Addition of  2  ^  4  =  16 \n",
      "\n",
      "num1 :  2\n",
      "num2 :  3\n",
      "Addition of  2  ^  3  =  8\n"
     ]
    }
   ],
   "source": [
    "# Square\n",
    "x = input(\"Enter number1 : \")\n",
    "y = input(\"Enter number2 : \")\n",
    "print(\"num1 : \",x)\n",
    "print(\"num2 : \",y)\n",
    "print(\"Addition of \",x,' ^ ',y,\" = \",int(x) ** int(y),\"\\n\")\n",
    "\n",
    "# Square\n",
    "x = int(input(\"Enter number1 : \"))\n",
    "y = int(input(\"Enter number2 : \"))\n",
    "print(\"num1 : \",x)\n",
    "print(\"num2 : \",y)\n",
    "print(\"Addition of \",x,' ^ ',y,\" = \",x ** y)"
   ]
  }
 ],
 "metadata": {
  "kernelspec": {
   "display_name": "Python 3",
   "language": "python",
   "name": "python3"
  },
  "language_info": {
   "codemirror_mode": {
    "name": "ipython",
    "version": 3
   },
   "file_extension": ".py",
   "mimetype": "text/x-python",
   "name": "python",
   "nbconvert_exporter": "python",
   "pygments_lexer": "ipython3",
   "version": "3.12.0"
  }
 },
 "nbformat": 4,
 "nbformat_minor": 2
}
