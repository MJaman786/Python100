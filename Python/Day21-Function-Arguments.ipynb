{
 "cells": [
  {
   "cell_type": "code",
   "execution_count": 5,
   "metadata": {},
   "outputs": [
    {
     "name": "stdout",
     "output_type": "stream",
     "text": [
      "[5, 6]\n",
      "Average of number :  5.5\n"
     ]
    }
   ],
   "source": [
    "# function arguments\n",
    "\"\"\"\n",
    "def function_name(arguments):\n",
    "    /*\n",
    "        code\n",
    "    */\n",
    "    return\n",
    "\"\"\"\n",
    "# two argumnets\n",
    "def averageOFnumbers(a, b):\n",
    "    sum = (a + b)/2\n",
    "    return sum\n",
    "num1=int(input(\"Enter number 1 : \"))\n",
    "num2=int(input(\"Enter number 2 : \"))\n",
    "print(f\"{[num1, num2]}\")\n",
    "average = averageOFnumbers(num1, num2)\n",
    "print(\"Average of number : \",average)"
   ]
  },
  {
   "cell_type": "code",
   "execution_count": 6,
   "metadata": {},
   "outputs": [
    {
     "name": "stdout",
     "output_type": "stream",
     "text": [
      "[3, 4, 5]\n",
      "Average of number :  4.0\n"
     ]
    }
   ],
   "source": [
    "# three arguments\n",
    "def averageOFnumbers(a, b, c=5):\n",
    "    sum = (a + b + c)/3\n",
    "    return sum\n",
    "num1=int(input(\"Enter number 1 : \"))\n",
    "num2=int(input(\"Enter number 2 : \"))\n",
    "print(f\"{[num1, num2, 5]}\")\n",
    "average = averageOFnumbers(num1, num2)\n",
    "print(\"Average of number : \",average)"
   ]
  },
  {
   "cell_type": "code",
   "execution_count": 1,
   "metadata": {},
   "outputs": [
    {
     "name": "stdout",
     "output_type": "stream",
     "text": [
      "<class 'tuple'>\n",
      "<class 'tuple'>\n",
      "Average of [4, 5, 6, 7]: 5.5\n",
      "Average of [2, 4, 6, 8]: 5.0\n"
     ]
    }
   ],
   "source": [
    "# Infinite arguments\n",
    "def average_of_numbers(*numbers):\n",
    "    print(type(numbers))\n",
    "    total = sum(numbers)\n",
    "    average = total / len(numbers)\n",
    "    return average\n",
    "\n",
    "# Example usage\n",
    "numberset1 = [4, 5, 6, 7]\n",
    "numberset2 = [2, 4, 6, 8]\n",
    "\n",
    "average_result1 = average_of_numbers(*numberset1)\n",
    "average_result2 = average_of_numbers(*numberset2)\n",
    "\n",
    "print(f'Average of {numberset1}: {average_result1}')\n",
    "print(f'Average of {numberset2}: {average_result2}')"
   ]
  },
  {
   "cell_type": "code",
   "execution_count": null,
   "metadata": {},
   "outputs": [],
   "source": []
  }
 ],
 "metadata": {
  "kernelspec": {
   "display_name": "Python 3",
   "language": "python",
   "name": "python3"
  },
  "language_info": {
   "codemirror_mode": {
    "name": "ipython",
    "version": 3
   },
   "file_extension": ".py",
   "mimetype": "text/x-python",
   "name": "python",
   "nbconvert_exporter": "python",
   "pygments_lexer": "ipython3",
   "version": "3.12.0"
  }
 },
 "nbformat": 4,
 "nbformat_minor": 2
}
