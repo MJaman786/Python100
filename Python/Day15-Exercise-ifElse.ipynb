{
 "cells": [
  {
   "cell_type": "code",
   "execution_count": 8,
   "metadata": {},
   "outputs": [
    {
     "name": "stdout",
     "output_type": "stream",
     "text": [
      "Good Afternoon! The current time is 02:29:33 PM\n"
     ]
    }
   ],
   "source": [
    "import time\n",
    "\n",
    "# Get the current time in 12-hour format with AM/PM, minutes, and seconds\n",
    "current_time = time.strftime('%I:%M:%S %p')\n",
    "\n",
    "# Greet the user based on the current time\n",
    "if 5 <= int(time.strftime('%H')) < 12:\n",
    "    print(f\"Good Morning! The current time is {current_time}\")\n",
    "elif 12 <= int(time.strftime('%H')) < 18:\n",
    "    print(f\"Good Afternoon! The current time is {current_time}\")\n",
    "else:\n",
    "    print(f\"Good Evening! The current time is {current_time}\")\n"
   ]
  },
  {
   "cell_type": "code",
   "execution_count": 12,
   "metadata": {},
   "outputs": [
    {
     "name": "stdout",
     "output_type": "stream",
     "text": [
      "Start sleeping...\n",
      "Wake up after 3 seconds!\n"
     ]
    }
   ],
   "source": [
    "import time\n",
    "\n",
    "print(\"Start sleeping...\")\n",
    "time.sleep(3)\n",
    "print(\"Wake up after 3 seconds!\")\n"
   ]
  },
  {
   "cell_type": "code",
   "execution_count": 13,
   "metadata": {},
   "outputs": [
    {
     "name": "stdout",
     "output_type": "stream",
     "text": [
      "Formatted time: 2024-02-02 14:33:49\n"
     ]
    }
   ],
   "source": [
    "import time\n",
    "\n",
    "current_local_time = time.localtime()\n",
    "formatted_time = time.strftime(\"%Y-%m-%d %H:%M:%S\", current_local_time)\n",
    "print(f\"Formatted time: {formatted_time}\")\n"
   ]
  },
  {
   "cell_type": "code",
   "execution_count": 14,
   "metadata": {},
   "outputs": [
    {
     "name": "stdout",
     "output_type": "stream",
     "text": [
      "Current local time as struct_time: time.struct_time(tm_year=2024, tm_mon=2, tm_mday=2, tm_hour=14, tm_min=34, tm_sec=9, tm_wday=4, tm_yday=33, tm_isdst=0)\n"
     ]
    }
   ],
   "source": [
    "import time\n",
    "\n",
    "current_local_time = time.localtime()\n",
    "print(f\"Current local time as struct_time: {current_local_time}\")\n"
   ]
  },
  {
   "cell_type": "code",
   "execution_count": 18,
   "metadata": {},
   "outputs": [
    {
     "name": "stdout",
     "output_type": "stream",
     "text": [
      "Current local time: Fri Feb  2 14:36:12 2024\n"
     ]
    }
   ],
   "source": [
    "import time\n",
    "\n",
    "current_time_str = time.ctime()\n",
    "print(f\"Current local time: {current_time_str}\")\n"
   ]
  },
  {
   "cell_type": "code",
   "execution_count": 20,
   "metadata": {},
   "outputs": [
    {
     "name": "stdout",
     "output_type": "stream",
     "text": [
      "Time : Fri Feb  2 22:26:14 2024\n"
     ]
    }
   ],
   "source": [
    "current_time = time.ctime()\n",
    "print(f\"Time : {current_time}\")"
   ]
  },
  {
   "cell_type": "code",
   "execution_count": 21,
   "metadata": {},
   "outputs": [
    {
     "name": "stdout",
     "output_type": "stream",
     "text": [
      "Time: 10:29:55 PM\n"
     ]
    }
   ],
   "source": [
    "import time\n",
    "\n",
    "current_time = time.strftime(\"%I:%M:%S %p\")\n",
    "print(f\"Time: {current_time}\")\n"
   ]
  },
  {
   "cell_type": "code",
   "execution_count": null,
   "metadata": {},
   "outputs": [],
   "source": []
  }
 ],
 "metadata": {
  "kernelspec": {
   "display_name": "Python 3",
   "language": "python",
   "name": "python3"
  },
  "language_info": {
   "codemirror_mode": {
    "name": "ipython",
    "version": 3
   },
   "file_extension": ".py",
   "mimetype": "text/x-python",
   "name": "python",
   "nbconvert_exporter": "python",
   "pygments_lexer": "ipython3",
   "version": "3.12.0"
  }
 },
 "nbformat": 4,
 "nbformat_minor": 2
}
