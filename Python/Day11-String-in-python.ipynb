{
 "cells": [
  {
   "cell_type": "code",
   "execution_count": 28,
   "metadata": {},
   "outputs": [
    {
     "name": "stdout",
     "output_type": "stream",
     "text": [
      "Hi!, My name is AMAN\n",
      "\n",
      "Currently Iam in BeTech from Engineering. \n",
      "And domain Information Techology (IT).\n",
      "Upskilling my programming journey in 'Python Language'.\n",
      "\n"
     ]
    }
   ],
   "source": [
    "# String\n",
    "\n",
    "# single line string\n",
    "single = \"Hi!, My name is AMAN\"\n",
    "\n",
    "# multi line string\n",
    "multi = '''\n",
    "Currently Iam in BeTech from Engineering. \n",
    "And domain Information Techology (IT).\n",
    "Upskilling my programming journey in 'Python Language'.\n",
    "'''\n",
    "\n",
    "print(single)\n",
    "print(multi)"
   ]
  },
  {
   "cell_type": "code",
   "execution_count": 26,
   "metadata": {},
   "outputs": [
    {
     "name": "stdout",
     "output_type": "stream",
     "text": [
      "H\n",
      "i\n",
      "!\n",
      ",\n",
      "Hi!, My name is AMAN\n",
      "Hi!, My name is AMAN\n",
      "Hi!, My name is AMAN\n",
      "Hi!, My name is AMAN\n",
      "Hi!, My name is AMAN\n",
      "Hi!, My name is AMAN\n",
      "Hi!, My name is AMAN\n",
      "Hi!, My name is AMAN\n",
      "Hi!, My name is AMAN\n",
      "Hi!, My name is AMAN\n",
      "\n",
      " Hi!, My name is AMAN\n"
     ]
    }
   ],
   "source": [
    "# in python string is array of characters\n",
    "# Indexing in string\n",
    "\n",
    "print(single[0])\n",
    "print(single[1])\n",
    "print(single[2])\n",
    "print(single[3])\n",
    "# using for loop\n",
    "for characters in range(10):\n",
    "    print(single)\n",
    "\n",
    "for items in range(1):\n",
    "    print(\"\\n\",single)"
   ]
  }
 ],
 "metadata": {
  "kernelspec": {
   "display_name": "Python 3",
   "language": "python",
   "name": "python3"
  },
  "language_info": {
   "codemirror_mode": {
    "name": "ipython",
    "version": 3
   },
   "file_extension": ".py",
   "mimetype": "text/x-python",
   "name": "python",
   "nbconvert_exporter": "python",
   "pygments_lexer": "ipython3",
   "version": "3.12.0"
  }
 },
 "nbformat": 4,
 "nbformat_minor": 2
}
